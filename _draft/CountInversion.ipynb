{
 "cells": [
  {
   "cell_type": "markdown",
   "metadata": {},
   "source": [
    "# Count Inversion\n",
    "\n",
    "[geeksforgeeks](https://www.geeksforgeeks.org/counting-inversions/)"
   ]
  },
  {
   "cell_type": "code",
   "execution_count": 1,
   "metadata": {},
   "outputs": [],
   "source": [
    "import sys\n",
    "import numpy as np\n",
    "import random, math\n",
    "import logging, argparse, yaml, copy\n",
    "import matplotlib.pyplot as plt\n",
    "from utils.verbose import logging_time, printProgressBar\n",
    "from collections import deque\n",
    "\n",
    "MAX = 1e10\n",
    "\n",
    "SEED = 0\n",
    "np.random.seed(seed=SEED)\n",
    "random.seed(SEED)\n",
    "\n",
    "VERBOSE = True\n",
    "# setup logging\n",
    "logging.basicConfig(\n",
    "    format=\"%(asctime)s - %(message)s\",\n",
    "    datefmt=\"%m/%d/%Y %H:%M:%S\",\n",
    "    level=logging.INFO if VERBOSE else logging.WARNING)"
   ]
  },
  {
   "cell_type": "markdown",
   "metadata": {},
   "source": [
    "## Naive Approach\n",
    "$$\n",
    "O(n^2)\n",
    "$$"
   ]
  },
  {
   "cell_type": "code",
   "execution_count": 2,
   "metadata": {},
   "outputs": [],
   "source": [
    "@logging_time\n",
    "def naive(a):\n",
    "    n = len(a)\n",
    "    cnt = 0\n",
    "    for i in range(n-1):\n",
    "        for j in range(i+1, n):\n",
    "            if a[i] > a[j]:\n",
    "                cnt += 1\n",
    "    return cnt  "
   ]
  },
  {
   "cell_type": "code",
   "execution_count": 3,
   "metadata": {},
   "outputs": [
    {
     "name": "stdout",
     "output_type": "stream",
     "text": [
      "[49, 97, 53, 5, 33, 65, 62, 51, 100, 38]\n"
     ]
    },
    {
     "data": {
      "text/plain": [
       "21"
      ]
     },
     "execution_count": 3,
     "metadata": {},
     "output_type": "execute_result"
    }
   ],
   "source": [
    "size = 10\n",
    "a = [random.randint(0,100) for _ in range(size)]\n",
    "print(a)\n",
    "ans, time = naive(a)\n",
    "ans"
   ]
  },
  {
   "cell_type": "markdown",
   "metadata": {},
   "source": [
    "## Divide and Conquer \n",
    "### Key idea\n",
    "Use **Merge Sort** and **Binary Search** to count inversions.\n",
    "### Intuition\n",
    "If left and right part are sorted, we can count inversion $O(nlogn)$ using binary search.\n",
    "$$\n",
    "T(n) = 2T(n/2) + O(nlogn)\n",
    "$$"
   ]
  },
  {
   "cell_type": "code",
   "execution_count": 4,
   "metadata": {},
   "outputs": [],
   "source": [
    "@logging_time\n",
    "def solution(a):\n",
    "    return solve(a, 0, len(a) - 1)\n",
    "\n",
    "def solve(a, s, e):\n",
    "    if s >= e: return 0\n",
    "    q = (s + e) // 2\n",
    "    left = solve(a, s, q)\n",
    "    right = solve(a, q + 1, e)\n",
    "\n",
    "    # count inversion\n",
    "    # note that cross should be counted before merged,\n",
    "    cross = 0\n",
    "    for i in range(s, q + 1):\n",
    "        cross += count(a, q + 1, e, a[i])\n",
    "\n",
    "    # merge\n",
    "    L = copy.deepcopy(a[s:q + 1]) + [1e10]\n",
    "    R = copy.deepcopy(a[q + 1: e + 1]) + [1e10]\n",
    "    i = j = 0\n",
    "    for k in range(s, e + 1):\n",
    "        if L[i] <= R[j]:\n",
    "            a[k] = L[i]\n",
    "            i += 1\n",
    "        else:\n",
    "            a[k] = R[j]\n",
    "            j += 1\n",
    "\n",
    "    return left + right + cross\n",
    "\n",
    "def count(a, s, e, X):\n",
    "    if s == e:\n",
    "        return 1 if a[s] < X else 0\n",
    "    q = (s + e) // 2\n",
    "    if a[q] < X:\n",
    "        return (q - s + 1) + count(a, q + 1, e, X)\n",
    "    else:\n",
    "        return count(a, s, q, X)"
   ]
  },
  {
   "cell_type": "code",
   "execution_count": 5,
   "metadata": {},
   "outputs": [
    {
     "name": "stdout",
     "output_type": "stream",
     "text": [
      "before sorted: [61, 45, 74, 27, 64, 17, 36, 17, 96, 12]\n",
      "after: [12, 17, 17, 27, 36, 45, 61, 64, 74, 96]\n",
      "gt: 29, ans: 29\n"
     ]
    }
   ],
   "source": [
    "size = 10\n",
    "a = [random.randint(0, 100) for _ in range(int(size))]\n",
    "gt, t1 = naive(a)\n",
    "print(\"before sorted: {}\".format(a))\n",
    "ans, t2 = solution(a)\n",
    "print(\"after: {}\".format(a))\n",
    "print(\"gt: {}, ans: {}\".format(gt, ans))\n",
    "assert gt == ans"
   ]
  },
  {
   "cell_type": "markdown",
   "metadata": {},
   "source": [
    "## Divide and Conquer \n",
    "\n",
    "### Key idea\n",
    "If we look at the merge function concisely, we can notify that it is not necessary to call binary search. <br>\n",
    "When we use **merge** left and right sorted list, we can count inversions in $O(n)$."
   ]
  },
  {
   "cell_type": "code",
   "execution_count": 6,
   "metadata": {},
   "outputs": [],
   "source": [
    "@logging_time\n",
    "def solution_v2(a):\n",
    "    return merge(a, 0, len(a)-1)\n",
    "\n",
    "def merge(a, s, e):\n",
    "    if s >= e: return 0\n",
    "    q = (s + e) // 2 \n",
    "    left = merge(a, s, q)\n",
    "    right = merge(a, q+1, e)\n",
    "    \n",
    "    cross = 0 # inversion count\n",
    "    i = j = 0 # L and R index\n",
    "    L = copy.deepcopy(a[s:q+1]) + [1e+10] # length q - s + 2\n",
    "    R = copy.deepcopy(a[q+1:e+1]) + [1e+10] # length e - q + 1\n",
    "    \n",
    "    for k in range(s, e+1):\n",
    "        if L[i] <= R[j]:\n",
    "            a[k] = L[i]\n",
    "            i += 1\n",
    "        else:\n",
    "            a[k] = R[j]\n",
    "            j += 1\n",
    "            # if i is not sentinel index, count\n",
    "            if (i != (len(L)-1)):\n",
    "                cross += (len(L) - 1 - i)\n",
    "    return cross + left + right"
   ]
  },
  {
   "cell_type": "code",
   "execution_count": 7,
   "metadata": {},
   "outputs": [
    {
     "name": "stdout",
     "output_type": "stream",
     "text": [
      "|██████████████████████████████████████████████████| 100.0 % - experiments\r"
     ]
    }
   ],
   "source": [
    "num_exp = 100\n",
    "t1, t2, t3 = [0]*num_exp, [0]*num_exp, [0]*num_exp\n",
    "sizes = list(np.linspace(start=1, stop=10000, num=num_exp))\n",
    "for i, size in enumerate(sizes):\n",
    "    a = [random.randint(0,100) for _ in range(int(size))]\n",
    "    # print(\"before sorted: {}\".format(a))\n",
    "    gt, t1[i] = naive(a)\n",
    "    ans1, t2[i] = solution(copy.deepcopy(a))\n",
    "    ans2, t3[i] = solution_v2(copy.deepcopy(a))\n",
    "    # print(\"after: {}\".format(a))\n",
    "    assert gt == ans1 == ans2, \"error {} != {} != {}, a={}\".format(gt, ans1, ans2, a)\n",
    "    # print(\"pass\")\n",
    "    printProgressBar(iteration=i+1, total=num_exp, msg='experiments', length=50)"
   ]
  },
  {
   "cell_type": "code",
   "execution_count": 8,
   "metadata": {},
   "outputs": [
    {
     "data": {
      "image/png": "[encoded data removed]",
      "text/plain": [
       "<Figure size 432x288 with 1 Axes>"
      ]
     },
     "metadata": {
      "needs_background": "light"
     },
     "output_type": "display_data"
    }
   ],
   "source": [
    "plt.xlabel('size')\n",
    "plt.ylabel('time')\n",
    "plt.title(\"Time Complexity Analysis\")\n",
    "plt.plot(sizes, t1, 'o-g', label=\"naive\")\n",
    "plt.plot(sizes, t2, '*-b', label='merge_v1')\n",
    "plt.plot(sizes, t3, '*-r', label='merge_v2')\n",
    "plt.legend(loc='upper right')\n",
    "plt.show()"
   ]
  },
  {
   "cell_type": "code",
   "execution_count": 10,
   "metadata": {},
   "outputs": [
    {
     "data": {
      "image/png": "[encoded data removed]",
      "text/plain": [
       "<Figure size 432x288 with 1 Axes>"
      ]
     },
     "metadata": {
      "needs_background": "light"
     },
     "output_type": "display_data"
    }
   ],
   "source": [
    "plt.xlabel('size')\n",
    "plt.ylabel('time')\n",
    "plt.title(\"Time Complexity Analysis\")\n",
    "plt.plot(sizes, t2, '*-b', label='merge_v1')\n",
    "plt.plot(sizes, t3, '*-r', label='merge_v2')\n",
    "plt.legend(loc='upper right')\n",
    "plt.show()"
   ]
  },
  {
   "cell_type": "markdown",
   "metadata": {},
   "source": [
    "As you can see in the graph, counting inversions algorithm is improved by some techniques."
   ]
  },
  {
   "cell_type": "markdown",
   "metadata": {},
   "source": [
    "# Report\n",
    "\n",
    "이 문제는 Divide and Conquer technique을 연습할 수 있는 좋은 문제였다. \n",
    "일반적인 divide and conquer flow는 다음과 같다. \n",
    "1. 구간을 나누고 recursion을 통해 문제를 풀었다고 가정하자. (divide)\n",
    "2. 구간별 솔루션들을 종합하는 과정 필요(conquer).\n",
    "\n",
    "recursion 을 할때는 call하는 순서에서 주의 해야한다.   \n",
    "그 예로, `merge_v1`에서 구현하면서 실수 헀던 점은 left와 right에 대한 call 이후, merge하기 전에 binary search를 통해\n",
    "cross case를 구해야하는데, merge를 먼저 call 해버리면, left와 right의 순서가 병합되어 버리므로 binary search를 사용하는데있어 문제가 생긴다.  \n",
    "(사실 merge해놓고 linear하게 search하면서 inversion을 구할 수도 있지만, binary search를 연습하기 위해서 그렇게 하지 않았다.) \n",
    "<details>\n",
    "즉, divide를 통해 left와 right 가 각각 sorted 되어있있고, 그 구간내의 inversion들은 구헀다는 가정하에 \n",
    "cross counversion을 구현해야했다. merge를 먼저 call하면 그 가정상황이 망가지게 된다. \n",
    "</details>"
   ]
  }
 ],
 "metadata": {
  "kernelspec": {
   "display_name": "Python 3",
   "language": "python",
   "name": "python3"
  },
  "language_info": {
   "codemirror_mode": {
    "name": "ipython",
    "version": 3
   },
   "file_extension": ".py",
   "mimetype": "text/x-python",
   "name": "python",
   "nbconvert_exporter": "python",
   "pygments_lexer": "ipython3",
   "version": "3.7.4"
  }
 },
 "nbformat": 4,
 "nbformat_minor": 4
}
