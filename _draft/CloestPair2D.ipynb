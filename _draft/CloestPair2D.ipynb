{
 "cells": [
  {
   "cell_type": "markdown",
   "metadata": {},
   "source": [
    "# Closest Pair of Points\n",
    "\n",
    "[geeksforgeeks](https://www.geeksforgeeks.org/closest-pair-of-points-using-divide-and-conquer-algorithm/)"
   ]
  },
  {
   "cell_type": "markdown",
   "metadata": {},
   "source": [
    "## Configuration"
   ]
  },
  {
   "cell_type": "code",
   "execution_count": 1,
   "metadata": {},
   "outputs": [],
   "source": [
    "import sys\n",
    "import numpy as np\n",
    "import random, math\n",
    "import logging, argparse, yaml, copy\n",
    "import matplotlib.pyplot as plt\n",
    "from utils.verbose import logging_time\n",
    "from collections import deque\n",
    "\n",
    "MAX = 1e10\n",
    "\n",
    "SEED = 0\n",
    "np.random.seed(seed=SEED)\n",
    "random.seed(SEED)\n",
    "\n",
    "VERBOSE = True\n",
    "# setup logging\n",
    "logging.basicConfig(\n",
    "    format=\"%(asctime)s - %(message)s\",\n",
    "    datefmt=\"%m/%d/%Y %H:%M:%S\",\n",
    "    level=logging.INFO if VERBOSE else logging.WARNING)"
   ]
  },
  {
   "cell_type": "markdown",
   "metadata": {},
   "source": [
    "## Naive \n",
    "\n",
    "Enumerate all pair distance, and take the minimum value.\n",
    "\n",
    "$$\n",
    "T(n) = O(n^2)\n",
    "$$"
   ]
  },
  {
   "cell_type": "code",
   "execution_count": 2,
   "metadata": {},
   "outputs": [],
   "source": [
    "def distance(a, b):\n",
    "    \"\"\" get distance between 2 points. \"\"\"\n",
    "    return math.sqrt((a[0] - b[0]) ** 2 + (a[1] - b[1]) ** 2)\n",
    "\n",
    "@logging_time\n",
    "def cloest_naive(points):\n",
    "    \"\"\" find minimum distance from enumerating all cases. \"\"\"\n",
    "    ans = MAX\n",
    "    size = len(points)\n",
    "    for i in range(size):\n",
    "        for j in range(i+1, size):\n",
    "            ans = min(ans, distance(points[i], points[j]))\n",
    "    return ans"
   ]
  },
  {
   "cell_type": "code",
   "execution_count": 3,
   "metadata": {},
   "outputs": [
    {
     "data": {
      "text/plain": [
       "1.4142135623730951"
      ]
     },
     "execution_count": 3,
     "metadata": {},
     "output_type": "execute_result"
    }
   ],
   "source": [
    "points = [(-4, 4), (-3, 2), (-2, -1), (-1.5, 4), (-1, -2), (0, 1), (1.5, 2), (2, 4), (3, 2), (3, 0), (4, 3), (4, -2)]\n",
    "ans, _ = cloest_naive(points)\n",
    "ans"
   ]
  },
  {
   "cell_type": "markdown",
   "metadata": {},
   "source": [
    "## Divide Conquer\n",
    "\n",
    "We can improve 2D Closest pair of points algorithm using Divide and Conquer technique. <br>\n",
    "\n",
    "### Key idea\n",
    "1. find **mid point** in **linear time**.\n",
    "2. get minimum distances of left, right **recursively**.\n",
    "3. find **cross minimum distance** in **linear time**, and then return `min(left, right, cross)`\n",
    "\n",
    "Therefore, if we take linear time quick selection algorithm in order to get mid point index, the time complexity is as follows.\n",
    "$$\n",
    "T(n) = 2T(n/2) + O(n) = O(nlogn)\n",
    "$$"
   ]
  },
  {
   "cell_type": "markdown",
   "metadata": {},
   "source": [
    "### Find mid point in linear time, and get minimum distances of left and right recursively.\n",
    "\n",
    "In order to do that, we have to use **linear time mid point selection algorithm** based on **median of medians algorithm**. <br>\n",
    "The detail algorithm is described at this [post](https://sungwookyoo.github.io/algorithms/QuickSortMedian/). <br>\n",
    "Note that we have to transform the linear time selection algorithm to be operated by index, instead of ordered statistic. <br>\n",
    "\n",
    "<span style=\"color:red\">To simplify</span> this algorithm, I used **randomized** quick select algorithm, instead of linear time quick select algorithm. <br>\n",
    "The overhead of randomized quick select algoritm, the worst case time complexity becomes $O(n^2)$. <br>\n",
    "However, the average time is $O(n)$\n",
    "\n",
    "Recursively find minimum distances of left and right part as follows.\n",
    "\n",
    "<img src=\"https://media.geeksforgeeks.org/wp-content/uploads/mindis.png\" width=300>"
   ]
  },
  {
   "cell_type": "code",
   "execution_count": 4,
   "metadata": {},
   "outputs": [],
   "source": [
    "def partition(points, s, e, axis=0, verbose=False):\n",
    "    \"\"\" randomized partition by axis\n",
    "    points[i+1] finds the right place. \"\"\"\n",
    "    i = np.random.randint(s, e + 1)\n",
    "    points[i], points[e] = points[e], points[i]\n",
    "    pivot = points[e][axis]\n",
    "    if verbose: print(\"{} is a pivot\".format(points[e]))\n",
    "    i = s - 1\n",
    "    for j in range(s, e):\n",
    "        if points[j][axis] <= pivot:\n",
    "            i += 1\n",
    "            points[i], points[j] = points[j], points[i]\n",
    "    points[i + 1], points[e] = points[e], points[i + 1]\n",
    "    return i + 1\n",
    "\n",
    "def quick_select(points, s, e, k, axis=0):\n",
    "    \"\"\" find the k-th smallest index of points by axis.\n",
    "    please note that this algorithm returns `index`. \"\"\"\n",
    "    assert (not s > e) and (k >= 0), \"index error!\"\n",
    "    if s == e: return e\n",
    "    # q is pivot index\n",
    "    q = partition(points, s, e, axis=axis)\n",
    "    if k < q:\n",
    "        return quick_select(points, s, q - 1, k, axis=axis)\n",
    "    elif k == q:\n",
    "        return q\n",
    "    else:\n",
    "        return quick_select(points, q + 1, e, k, axis=axis)"
   ]
  },
  {
   "cell_type": "code",
   "execution_count": 5,
   "metadata": {},
   "outputs": [
    {
     "name": "stderr",
     "output_type": "stream",
     "text": [
      "03/12/2020 05:40:30 - after partition ...\n",
      "03/12/2020 05:40:30 - [[-4, 11], [-25, -22], [-22, 14], [-16, -6], [19, 22]]\n",
      "03/12/2020 05:40:30 - points[4] = [19, 22]\n",
      "03/12/2020 05:40:30 - after partition ...\n",
      "03/12/2020 05:40:30 - [[-25, -9], [-16, -14], [-20, -10], [-13, -17], [12, 18]]\n",
      "03/12/2020 05:40:30 - points[3] = [-13, -17]\n",
      "03/12/2020 05:40:30 - after partition ...\n",
      "03/12/2020 05:40:30 - [[-7, -14], [-3, 18], [15, -18], [15, -10], [20, -17]]\n",
      "03/12/2020 05:40:30 - points[1] = [-3, 18]\n",
      "03/12/2020 05:40:30 - after partition ...\n",
      "03/12/2020 05:40:30 - [[-25, -4], [-22, -17], [18, 16], [-6, -15], [17, -1]]\n",
      "03/12/2020 05:40:30 - points[0] = [-25, -4]\n",
      "03/12/2020 05:40:30 - after partition ...\n",
      "03/12/2020 05:40:30 - [[-24, 15], [20, 5], [-2, -17], [-16, 14], [21, -20]]\n",
      "03/12/2020 05:40:30 - points[0] = [-24, 15]\n"
     ]
    }
   ],
   "source": [
    "# check\n",
    "for SEED in range(5):\n",
    "    np.random.seed(seed=SEED)\n",
    "    random.seed(SEED)\n",
    "    sizes = list(range(5, 10, 10))\n",
    "    for i, size in enumerate(sizes):\n",
    "        points = [np.random.randint(-5 * size, 5 * size, size=2).tolist() for i in range(size)]\n",
    "        # logging.info(points)\n",
    "        q = partition(points, 0, size - 1, axis=0, verbose=False)\n",
    "        logging.info(\"after partition ...\")\n",
    "        logging.info(points)\n",
    "        logging.info(\"points[{}] = {}\".format(q, points[q]))"
   ]
  },
  {
   "cell_type": "code",
   "execution_count": 6,
   "metadata": {},
   "outputs": [
    {
     "name": "stderr",
     "output_type": "stream",
     "text": [
      "03/12/2020 05:40:30 - after select (point order changed) ... \n",
      "03/12/2020 05:40:30 - points[2] is the 2-th smallest point\n",
      "03/12/2020 05:40:30 - [[-24, 15], [-16, 14], [-2, -17], [20, 5], [21, -20]]\n"
     ]
    }
   ],
   "source": [
    "k = 2\n",
    "logging.info(\"after select (point order changed) ... \")\n",
    "logging.info(\"points[{}] is the {}-th smallest point\".format(quick_select(points, 0, size - 1, k), k))\n",
    "logging.info(points)"
   ]
  },
  {
   "cell_type": "code",
   "execution_count": 7,
   "metadata": {},
   "outputs": [],
   "source": [
    "# sanity check\n",
    "for SEED in range(10):\n",
    "    np.random.seed(seed=SEED)\n",
    "    random.seed(SEED)\n",
    "    sizes = list(range(1, 300, 10))\n",
    "    for i, size in enumerate(sizes):\n",
    "        \"\"\" generate 2D points within 10*size square. \"\"\"\n",
    "        points = [np.random.randint(-5 * size, 5 * size, size=2).tolist() for i in range(size)]\n",
    "        test = copy.deepcopy(points)\n",
    "        k = random.randint(0, size-1)\n",
    "        i = quick_select(points, 0, size-1, k)\n",
    "        pred = points[i]\n",
    "        ans = sorted(test, key=lambda p: p[0])[k]\n",
    "        # print(\"{}-th smallest point: {}.x == {}.x\".format(k, pred, ans))\n",
    "        assert pred[0] == ans[0]"
   ]
  },
  {
   "cell_type": "markdown",
   "metadata": {},
   "source": [
    "### Find cross minimum distance to compare with left and right cases.\n",
    "\n",
    "Assume that the algorithm takes left, right minimum distances recursively. <br>\n",
    "Let `min(left, right)` be `d`.\n",
    "\n",
    "**cross-minimum distance** can be found by enumerating all pair distance in left and right points. <br>\n",
    "However, it takes $O(n/2 \\times n/2) = O(n^2)$. This way does not improve naive case. <br>"
   ]
  },
  {
   "cell_type": "code",
   "execution_count": 8,
   "metadata": {},
   "outputs": [],
   "source": [
    "def find_cross_min(points, s, q, e, recur_min, axis=0):\n",
    "    \"\"\" find cross minimum distance from points[s:e+1]\n",
    "    note that we already know\n",
    "        points[q] is strictly larger than points[s:q]\n",
    "        points[q] is strictly smaller than points[q+1:e]\n",
    "    \"\"\"\n",
    "    left = []\n",
    "    for i in range(s, q + 1):\n",
    "        if points[q][axis] - points[i][axis] <= recur_min:\n",
    "            left.append(points[i])\n",
    "\n",
    "    right = []\n",
    "    for i in range(q + 1, e + 1):\n",
    "        if points[i][axis] - points[q][axis] <= recur_min:\n",
    "            right.append(points[i])\n",
    "\n",
    "    cross_min = MAX\n",
    "    for p_l in left:\n",
    "        for p_r in right:\n",
    "            cross_min = min(cross_min, distance(p_l, p_r))\n",
    "    return cross_min"
   ]
  },
  {
   "cell_type": "code",
   "execution_count": 9,
   "metadata": {},
   "outputs": [],
   "source": [
    "@logging_time\n",
    "def closest_recursive(points, s, e, axis=0):\n",
    "    return closest(points, s, e, axis)\n",
    "\n",
    "def closest(points, s, e, axis=0):\n",
    "    \"\"\" find minimum distance from divide and conquer.\"\"\"\n",
    "    assert not (s > e), \"index error!\"\n",
    "    # base cases\n",
    "    if s == e: # self-distance is MAX.\n",
    "        return MAX\n",
    "    if e - s == 1:\n",
    "        return distance(points[s], points[e])\n",
    "\n",
    "    mid = (s + e) // 2\n",
    "    q = quick_select(points, s, e, mid, axis=axis)\n",
    "\n",
    "    # find minimum distance at each partition.\n",
    "    left = closest(points, s, q, axis=axis)\n",
    "    right = closest(points, q + 1, e, axis=axis)\n",
    "    recur_min = min(left, right)\n",
    "    cross_min = find_cross_min(points, s, q, e, recur_min, axis=axis)\n",
    "    return min(recur_min, cross_min)"
   ]
  },
  {
   "cell_type": "code",
   "execution_count": 10,
   "metadata": {},
   "outputs": [
    {
     "data": {
      "image/png": "[encoded data removed]",
      "text/plain": [
       "<Figure size 432x288 with 1 Axes>"
      ]
     },
     "metadata": {
      "needs_background": "light"
     },
     "output_type": "display_data"
    }
   ],
   "source": [
    "SEED = 0\n",
    "np.random.seed(seed=SEED)\n",
    "random.seed(SEED)\n",
    "sizes = list(range(10, 1000, 50))\n",
    "t1, t2 = [0] * len(sizes), [0] * len(sizes)\n",
    "for i, size in enumerate(sizes):\n",
    "    \"\"\" generate 2D points within 10*size square. \"\"\"\n",
    "    points = [np.random.randint(-5 * size, 5 * size, size=2).tolist() for i in range(size)]\n",
    "    ans1, t1[i] = closest_recursive(points, 0, size - 1, axis=0)\n",
    "    ans2, t2[i] = cloest_naive(points)\n",
    "    assert ans1 == ans2\n",
    "\n",
    "plt.xlabel('size')\n",
    "plt.ylabel('time')\n",
    "plt.title(\"Time Complexity Analysis\")\n",
    "plt.plot(sizes, t1, 'o-r', label=\"divide conquer\")\n",
    "plt.plot(sizes, t2, '*-b', label='naive')\n",
    "plt.legend(loc='upper right')\n",
    "plt.show()"
   ]
  },
  {
   "cell_type": "markdown",
   "metadata": {},
   "source": [
    "### How can we find **cross-minimum distance** in **linear time**?\n",
    "\n",
    "Please note that following facts.\n",
    "    <ul>\n",
    "        <li> The points are <b>partitioned by mid-point</b> along the axis-x since the algorithm uses a quick selection algorithm by axis-x.<br> </li>\n",
    "        <li> We already know d=min(left, right), so pruning can be possible by only seeing points <b>within the strip</b>. <br> \n",
    "            <img src=\"https://media.geeksforgeeks.org/wp-content/uploads/closepair.png\" width=300 align='center'> </li>\n",
    "        <li> There are up to <span style=\"color:red\"><b>6 points</b></span> on the opposite side with a distance less than the minimum distance. <br> \n",
    "            Therefore, it takes O(6n/2) = O(n)\n",
    "            <details>\n",
    "            This is because we get left-minimum and right-minimun distances recursively. <br>\n",
    "            There are <b>no pairs within the (left or right) part</b> where the distance <b>is less than the minimum</b> (left, right). <br> \n",
    "            <img src=\"https://i.stack.imgur.com/14Uv0.jpg\" width=300>\n",
    "            </details>\n",
    "        </li>\n",
    "    </ul>\n",
    "\n",
    "Therefore, it can be poosible to find cross-minimum distacne in linear time. <br>\n",
    "    <span style=\"color:red\">However</span>, **merging points by another axis-y** is necessary to remove candidates with six candidates in addition to partitioning by axis-x."
   ]
  },
  {
   "cell_type": "code",
   "execution_count": 11,
   "metadata": {},
   "outputs": [],
   "source": [
    "def merge(points, s, q, e):\n",
    "    \"\"\" sort by merging pre-sorted left and right along one axis. \"\"\"\n",
    "    n1 = q - s + 1\n",
    "    n2 = e - q\n",
    "    L, R = [], []\n",
    "    for i in range(n1):    # L[0.. n1-1] <- A[p..q] \n",
    "        L.append(points[s + i])  \n",
    "    for j in range(n2):\n",
    "        R.append(points[q + j + 1])  # R[0.. n2-1] <- A[q+1..r]\n",
    "    L.append([-MAX, -MAX])\n",
    "    R.append([-MAX, -MAX]) \n",
    "    i, j = 0, 0\n",
    "    # merge L[i] and R[j] in order to sort A[p.. q]\n",
    "    for k in range(s, e + 1):\n",
    "        if L[i][1] >= R[j][1]:\n",
    "            points[k] = L[i]\n",
    "            i += 1\n",
    "        else: \n",
    "            points[k] = R[j]\n",
    "            j += 1 \n",
    "            \n",
    "def merge_sort(points, s, e):  # A[p..r]까지 sorting \n",
    "    if s >= e: return    \n",
    "    q = (s + e) // 2     \n",
    "    merge_sort(points, s, q)\n",
    "    merge_sort(points, q + 1, e)\n",
    "    merge(points, s, q, e)"
   ]
  },
  {
   "cell_type": "code",
   "execution_count": 12,
   "metadata": {},
   "outputs": [
    {
     "name": "stdout",
     "output_type": "stream",
     "text": [
      "pass\n",
      "pass\n",
      "pass\n",
      "pass\n",
      "pass\n"
     ]
    }
   ],
   "source": [
    "for SEED in range(5):\n",
    "    SEED = 0\n",
    "    np.random.seed(seed=SEED)\n",
    "    random.seed(SEED)\n",
    "    sizes = list(range(10, 1000, 50))\n",
    "    for i, size in enumerate(sizes):\n",
    "        points = [np.random.randint(-5 * size, 5 * size, size=2).tolist() for i in range(size)]\n",
    "        # logging.info(points)\n",
    "        merge_sort(points, 0, size - 1)\n",
    "        # logging.info(\"after sorting ...\")\n",
    "        assert points ==sorted(points, key=lambda p: p[1], reverse=True), \"not sorted\"\n",
    "    print(\"pass\")"
   ]
  },
  {
   "cell_type": "markdown",
   "metadata": {},
   "source": [
    "#### Note \n",
    "Note that partitioned results will be changed if we call merge recursively. <br>\n",
    "In that, pivot posiiton is changed after recursion, so keep pivot of axis-x as `qx`. <br>\n",
    "Also, find_cross_min_v2 is improved mathmatically because we only search strip line at most 6 element per each point. <br>"
   ]
  },
  {
   "cell_type": "code",
   "execution_count": 13,
   "metadata": {},
   "outputs": [],
   "source": [
    "def find_cross_min_v2(points, s, q, e, d, qx):\n",
    "    \"\"\" find cross minimum distance from points[s:e+1] \n",
    "    note that left and right sorted by axis-y. \"\"\"\n",
    "    # test = copy.deepcopy(points)\n",
    "    # assert points[s:q+1] == sorted(test[s:q+1], key=lambda x: x[1], reverse=True), \"{}\".format(points[s:q+1])\n",
    "    # assert points[q+1: e+1] == sorted(test[q+1: e+1], key=lambda x: x[1], reverse=True), \"{}\".format(points[q+1:e+1])\n",
    "    \n",
    "    # pruning point: keep only points within strip.\n",
    "    left = [points[i] for i in range(s, q + 1) if abs(qx - points[i][0]) <= d]\n",
    "    right = [points[i] for i in range(q + 1, e + 1) if abs(qx - points[i][0]) <= d]\n",
    "    strip = copy.deepcopy(left + right)\n",
    "    merge(strip, 0, len(left)-1, len(strip)-1) \n",
    "    \n",
    "    cross = d\n",
    "    for i in range(len(strip)-1):\n",
    "        for j in range(i+1, min(i+7, len(strip))):\n",
    "            cross = min(cross, distance(strip[i], strip[j]))\n",
    "    return cross"
   ]
  },
  {
   "cell_type": "code",
   "execution_count": 14,
   "metadata": {},
   "outputs": [],
   "source": [
    "@logging_time\n",
    "def closest_recursive_v2(points, s, e):\n",
    "    return closest_v2(points, s, e)\n",
    "\n",
    "def closest_v2(points, s, e):\n",
    "    \"\"\" find minimum distance from divide and conquer.\"\"\"\n",
    "    assert not (s > e), \"index error!\"\n",
    "    # base cases\n",
    "    if s == e: # self-distance is MAX.\n",
    "        return MAX\n",
    "    if e - s == 1: # merge for length 2 case.\n",
    "        if points[s][1] < points[e][1]:\n",
    "            points[s], points[e] = points[e], points[s]\n",
    "        return distance(points[s], points[e])\n",
    "    \n",
    "    mid = (s + e) // 2\n",
    "    q = quick_select(points, s, e, mid)\n",
    "    # keep points[q] axis-x because points are sorted by y-axis after pass closest(..) merge\n",
    "    qx = points[q][0]\n",
    "\n",
    "    # find minimum distance at each partition.\n",
    "    left = closest_v2(points, s, q)\n",
    "    right = closest_v2(points, q + 1, e)\n",
    "    recur_min = min(left, right)\n",
    "    cross_min = find_cross_min_v2(points, s, q, e, recur_min, qx)\n",
    "    merge(points, s, q, e) # this line is added\n",
    "    return min(recur_min, cross_min)"
   ]
  },
  {
   "cell_type": "code",
   "execution_count": 15,
   "metadata": {},
   "outputs": [
    {
     "data": {
      "image/png": "[encoded data removed]",
      "text/plain": [
       "<Figure size 432x288 with 1 Axes>"
      ]
     },
     "metadata": {
      "needs_background": "light"
     },
     "output_type": "display_data"
    }
   ],
   "source": [
    "for SEED in range(1):\n",
    "    # SEED = random.randint(0, 100)\n",
    "    np.random.seed(seed=SEED)\n",
    "    random.seed(SEED)\n",
    "    sizes = list(range(100, 2000, 100))\n",
    "    t1, t2 = [0] * len(sizes), [0] * len(sizes)\n",
    "    for i, size in enumerate(sizes):\n",
    "        \"\"\" generate 2D points within 10*size square. \"\"\"\n",
    "        points = [np.random.randint(-5 * size, 5 * size, size=2).tolist() for i in range(size)]\n",
    "        # ans, _ = cloest_naive(points)\n",
    "        ans1, t1[i] = closest_recursive(points, 0, size - 1)\n",
    "        ans2, t2[i] = closest_recursive_v2(points, 0, size - 1)\n",
    "        # print(ans, ans1, ans2)\n",
    "        assert ans1 == ans2, \"{}, {} {}\".format(ans1, ans2, points)\n",
    "\n",
    "    plt.xlabel('size')\n",
    "    plt.ylabel('time')\n",
    "    plt.title(\"Time Complexity Analysis\")\n",
    "    plt.plot(sizes, t1, 'o-r', label=\"not merge\")\n",
    "    plt.plot(sizes, t2, '*-b', label=\"merge\")\n",
    "    plt.legend(loc='upper right')\n",
    "    plt.show()"
   ]
  },
  {
   "cell_type": "markdown",
   "metadata": {},
   "source": [
    "# Reference:\n",
    "[blog](https://medium.com/@andriylazorenko/closest-pair-of-points-in-python-79e2409fc0b2)"
   ]
  }
 ],
 "metadata": {
  "kernelspec": {
   "display_name": "Python 3",
   "language": "python",
   "name": "python3"
  },
  "language_info": {
   "codemirror_mode": {
    "name": "ipython",
    "version": 3
   },
   "file_extension": ".py",
   "mimetype": "text/x-python",
   "name": "python",
   "nbconvert_exporter": "python",
   "pygments_lexer": "ipython3",
   "version": "3.7.4"
  }
 },
 "nbformat": 4,
 "nbformat_minor": 4
}
