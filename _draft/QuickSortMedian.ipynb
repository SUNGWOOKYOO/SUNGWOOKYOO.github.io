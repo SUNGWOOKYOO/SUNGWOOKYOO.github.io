{
 "cells": [
  {
   "cell_type": "markdown",
   "metadata": {},
   "source": [
    "# Quick sort with median-of-medians algorithm  \n",
    "\n",
    "The median-of-medians algorithm is a deterministic linear-time selection algorithm. <br>\n",
    "Using this algorithm, we can improve quick sort algorithm!"
   ]
  },
  {
   "cell_type": "code",
   "execution_count": 1,
   "metadata": {},
   "outputs": [],
   "source": [
    "import numpy as np\n",
    "from random import seed\n",
    "import copy, random\n",
    "import time\n",
    "\n",
    "def logging_time(original_fn):\n",
    "    def wrapper_fn(*args, **kwargs):\n",
    "        start_time = time.time()\n",
    "        result = original_fn(*args, **kwargs)\n",
    "        elapsed_time = (time.time() - start_time) * 1e3\n",
    "        print(\"WorkingTime[{}]: {:.5f} ms\".format(original_fn.__name__, elapsed_time))\n",
    "        return result\n",
    "    return wrapper_fn"
   ]
  },
  {
   "cell_type": "markdown",
   "metadata": {},
   "source": [
    "## Selection Algorithm \n",
    "\n",
    "Before we will learn out quick sort, let's look at quick selection algorithm."
   ]
  },
  {
   "cell_type": "code",
   "execution_count": 2,
   "metadata": {},
   "outputs": [],
   "source": [
    "# QuickSelect: pick k th smallest element.\n",
    "# assume that array values should be distinct.\n",
    "# it takses average O(n), worst O(n^2) time.\n",
    "# This is because pivot determines reculsive call deviding ratio! \n",
    "@logging_time\n",
    "def QuickSelectRandom(a, p, r, k):\n",
    "    \"\"\" call randomized quick select algorithm \"\"\"\n",
    "    return QuickSelect(a, p, r, k)\n",
    "\n",
    "def QuickSelect(a, p, r, k):\n",
    "    if p == r:\n",
    "        return a[p]\n",
    "    else:\n",
    "        i = np.random.randint(p, r+1)\n",
    "        a[r], a[i] = a[i], a[r]\n",
    "        # randomized partition with pivot as a[r]\n",
    "        i = p - 1\n",
    "        for j in range(p, r):\n",
    "            if a[j] <= a[r]:\n",
    "                i += 1 \n",
    "                a[i], a[j] = a[j], a[i]\n",
    "        a[i+1], a[r] = a[r], a[i+1]\n",
    "        q = i+1\n",
    "        # divide and conquer for QuickSelect\n",
    "        i = q - p + 1\n",
    "        if k <= i:\n",
    "            return QuickSelect(a, p, q, k)\n",
    "        else:\n",
    "            return QuickSelect(a, q+1, r, k-i)"
   ]
  },
  {
   "cell_type": "code",
   "execution_count": 3,
   "metadata": {},
   "outputs": [
    {
     "name": "stdout",
     "output_type": "stream",
     "text": [
      "[10, 96, 49, 61, 92, 33, 90, 28, 25, 77]\n",
      "WorkingTime[QuickSelectRandom]: 0.16379 ms\n",
      "3-th smallest element: 28\n"
     ]
    }
   ],
   "source": [
    "a = random.sample(range(1, 100), 10)\n",
    "k = 3\n",
    "print(a)\n",
    "out = QuickSelectRandom(a, 0, len(a)-1, k)\n",
    "print(\"{}-th smallest element: {}\".format(k, out))"
   ]
  },
  {
   "cell_type": "markdown",
   "metadata": {},
   "source": [
    "### Average Time Complexity Analysis\n",
    "$$\n",
    "T(n) = T(n/2) + O(n) = O(n)\n",
    "$$\n",
    "<span style=\"color:red\">However</span>, worst case time complexity is $O(n^2)$  \n",
    "This is because pivot determines dividing ratio.  \n",
    "Therefore, in a worst case, \n",
    "$$\n",
    "T(n) = T(n-1) + O(n) = O(n^2)\n",
    "$$"
   ]
  },
  {
   "cell_type": "markdown",
   "metadata": {},
   "source": [
    "## Better Algorithm - Use median of medians\n",
    "[PseudoCode] kthSmallest using finding Median of Median and tranformed QickSelect algorithm [link](https://www.geeksforgeeks.org/kth-smallestlargest-element-unsorted-array-set-3-worst-case-linear-time/)\n",
    "```C++\n",
    "kthSmallest(arr[0..n-1], k)\n",
    "1) Divide arr[] into ⌈n/5⌉ groups where size of each group is 5 \n",
    "   except possibly the last group which may have less than 5 elements.  \n",
    "\n",
    "2) Sort the above created ⌈n/5⌉ groups and find median \n",
    "   of all groups. Create an auxiliary array 'median[]' and store medians \n",
    "   of all ⌈n/5⌉ groups in this median array.\n",
    "\n",
    "// Recursively call this method to find median of median[0..⌈n/5⌉-1]\n",
    "3) medOfMed = kthSmallest(median[0..⌈n/5⌉-1], ⌈n/10⌉)\n",
    "\n",
    "4) Partition arr[] around medOfMed and obtain its position.\n",
    "     pos = partition(arr, n, medOfMed)\n",
    "\n",
    "5) If pos == k return medOfMed \n",
    "6) If pos > k return kthSmallest(arr[l..pos-1], k) \n",
    "7) If pos < k return kthSmallest(arr[pos+1..r], k-pos+l-1)\n",
    "```"
   ]
  },
  {
   "cell_type": "code",
   "execution_count": 4,
   "metadata": {},
   "outputs": [],
   "source": [
    "\"\"\" helper functions \"\"\"\n",
    "# assume that r-p+1 <= 5\n",
    "def findMedian(a, p, r):\n",
    "    L = []\n",
    "    for i in range(p, r+1):\n",
    "        L.append(a[i])\n",
    "    L.sort()\n",
    "    return L[(r-p+1)//2]\n",
    "\n",
    "def partition(a, p, r, x):\n",
    "    \n",
    "    # we should find out medOfmed's index i value in the a[p..r]\n",
    "    # swap a[i], a[r] in order to make a[r] as a pivot \n",
    "    for i in range(p, r+1): \n",
    "        if a[i] == x: \n",
    "            a[i], a[r] = a[r], a[i]\n",
    "            break\n",
    "    \n",
    "    i = p - 1\n",
    "    for j in range(p, r):\n",
    "        if a[j] <= a[r]:\n",
    "            i += 1 \n",
    "            a[i], a[j] = a[j], a[i]\n",
    "    a[i+1], a[r] = a[r], a[i+1]\n",
    "    return i+1"
   ]
  },
  {
   "cell_type": "code",
   "execution_count": 5,
   "metadata": {},
   "outputs": [],
   "source": [
    "@logging_time\n",
    "def QuickSelectMedians(a, p, r, k):\n",
    "    \"\"\" call quick select with median of medians algorithm. \"\"\"\n",
    "    return KthSmallest(a, p, r, k)\n",
    "    \n",
    "def KthSmallest(a, p, r, k):\n",
    "    # divide A into floor(n/5) groups\n",
    "    # create median array with size floor(n/5)\n",
    "    n = r - p + 1\n",
    "    median = []\n",
    "    i = 0\n",
    "    while i < n//5:\n",
    "        # 5 element can be assigned for each group\n",
    "        median.append(findMedian(a, p+5*i, p+5*i+4))\n",
    "        i += 1\n",
    "    # if last group has n%5 (remainder) elements\n",
    "    if i*5 < n:\n",
    "        median.append(findMedian(a, p+5*i, p+5*i+(n%5-1)))\n",
    "        i += 1\n",
    "    # so, at this time i value means floor(n/5)\n",
    "    if i == 1:\n",
    "        # if median has only one elements, the medOfmed should be median[0]\n",
    "        medOfmed = median[i-1]\n",
    "    else:\n",
    "        # reculsively medOfmed can be found. \n",
    "        # Because median array is generated each recursion, i value should be shrunk more and more \n",
    "        medOfmed = KthSmallest(median, 0, i-1, i//2)\n",
    "    \n",
    "    # at this bottom line, medOfmed can be determined \n",
    "    # if we use the pivot as medofmed value, the number of sorted elements can be 3(floor(n/5)/2 - 2)\n",
    "    q = partition(a, p, r, medOfmed)\n",
    "    # i value means medOfmed's rank in a[...] array \n",
    "    i = q - p + 1 \n",
    "    if i == k:\n",
    "        # if partitioned pivot is the kth Smallest element\n",
    "        return a[q]\n",
    "    elif i > k:\n",
    "        return KthSmallest(a, p, q-1, k)\n",
    "    else:\n",
    "        return KthSmallest(a, q+1, r, k-i)"
   ]
  },
  {
   "cell_type": "code",
   "execution_count": 6,
   "metadata": {},
   "outputs": [
    {
     "name": "stdout",
     "output_type": "stream",
     "text": [
      "seed = 0 ==================================================\n",
      "WorkingTime[QuickSelectRandom]: 0.07701 ms\n",
      "> 1. worst case O(n^2), average O(n) select algorithm's output: -612\n",
      "WorkingTime[QuickSelectMedians]: 0.12517 ms\n",
      "> 2. worst case O(n) select algorithm's output:                 -612\n",
      "seed = 1 ==================================================\n",
      "WorkingTime[QuickSelectRandom]: 0.10681 ms\n",
      "> 1. worst case O(n^2), average O(n) select algorithm's output: -492\n",
      "WorkingTime[QuickSelectMedians]: 0.13685 ms\n",
      "> 2. worst case O(n) select algorithm's output:                 -492\n",
      "seed = 2 ==================================================\n",
      "WorkingTime[QuickSelectRandom]: 0.09274 ms\n",
      "> 1. worst case O(n^2), average O(n) select algorithm's output: -546\n",
      "WorkingTime[QuickSelectMedians]: 0.15426 ms\n",
      "> 2. worst case O(n) select algorithm's output:                 -546\n",
      "seed = 3 ==================================================\n",
      "WorkingTime[QuickSelectRandom]: 0.09656 ms\n",
      "> 1. worst case O(n^2), average O(n) select algorithm's output: -481\n",
      "WorkingTime[QuickSelectMedians]: 0.13661 ms\n",
      "> 2. worst case O(n) select algorithm's output:                 -481\n",
      "seed = 4 ==================================================\n",
      "WorkingTime[QuickSelectRandom]: 0.10538 ms\n",
      "> 1. worst case O(n^2), average O(n) select algorithm's output: -640\n",
      "WorkingTime[QuickSelectMedians]: 0.15450 ms\n",
      "> 2. worst case O(n) select algorithm's output:                 -640\n"
     ]
    }
   ],
   "source": [
    "for SEED in range(5):\n",
    "    print(\"seed = {} {}\".format(SEED, '='*50))\n",
    "    seed(SEED)\n",
    "    np.random.seed(SEED)\n",
    "    n, k = 100, 20\n",
    "    a = list(np.random.randint(-1000, 1000, size=n))\n",
    "    test = copy.deepcopy(a)\n",
    "    ans1 = QuickSelectRandom(test, 0, n-1, k)\n",
    "    print(\"> 1. worst case O(n^2), average O(n) select algorithm's output: {}\".format(ans1))\n",
    "    test = copy.deepcopy(a)\n",
    "    ans2 = QuickSelectMedians(test, 0, n-1, k)\n",
    "    print(\"> 2. worst case O(n) select algorithm's output: {:>20}\".format(ans2))\n",
    "    assert ans1 == ans2 == sorted(test)[k-1], \"Fail\""
   ]
  },
  {
   "cell_type": "markdown",
   "metadata": {},
   "source": [
    "## Time Complexity Analysis\n",
    "\n",
    "$T(n/5)$ means recursive call when finding medOfmed value  \n",
    "when we use medOfmed as a pivot, after partitioning,  \n",
    "assure that at least $3((n/5)/2 - 2)$ elements must be less or larger than medOfmed.  \n",
    "(where, -2 term means except for medOfmed group and last group.)  \n",
    "Therefore, next recursive call for KthSmallest selcect array size is $n - 3((n/5)/2 - 2) = 7n/10 + 6$ \n",
    "$$\n",
    "\\begin{aligned}\n",
    "T(n) &= T(n/5) + T(n - 3((n/5)/2 - 2)) + O(n)  \\\\\n",
    "    &= T(n/5) + T(7n/10 + 6) + O(n) \\\\\n",
    "    &= T(n/5) + T(7n/10) + O(n) \\\\\n",
    "    &= O(n)\n",
    "\\end{aligned}\n",
    "$$\n",
    "\n",
    "The master theorem can be used to show that this recurrence equals O(n)O(n)."
   ]
  },
  {
   "cell_type": "markdown",
   "metadata": {},
   "source": [
    "# Better Quick Sort Algorithm \n",
    "If we find out medOfmed in $O(n)$ time, and the medOfmed as a pivot.  \n",
    "At worst case, Quick Sort time complexity $O(nlogn)$"
   ]
  },
  {
   "cell_type": "code",
   "execution_count": 7,
   "metadata": {},
   "outputs": [],
   "source": [
    "@logging_time\n",
    "def Medians(a, p, r):\n",
    "    \"\"\" call quick select with median of medians algorithm. \"\"\"\n",
    "    return QuickSort(a, p, r)\n",
    "\n",
    "def QuickSort(a, p, r):\n",
    "    if p >= r:\n",
    "        return \n",
    "    med = KthSmallest(a, p, r, (r-p+1)//2)\n",
    "    q = partition(a, p, r, med)\n",
    "    \n",
    "    QuickSort(a, p, q-1)\n",
    "    QuickSort(a, q+1, r)"
   ]
  },
  {
   "cell_type": "code",
   "execution_count": 8,
   "metadata": {},
   "outputs": [],
   "source": [
    "@logging_time\n",
    "def Random(a, p, r):\n",
    "    \"\"\" call quick select with median of medians algorithm. \"\"\"\n",
    "    return quick(a, p, r)\n",
    "\n",
    "def quick(a, p, r):\n",
    "    if p < r :   # p >= r 이 되면 종료 \n",
    "        i = np.random.randint(p, r+1)\n",
    "        a[r], a[i] = a[i], a[r]\n",
    "        # randomized partition with pivot as a[r]\n",
    "        i = p - 1\n",
    "        for j in range(p, r):\n",
    "            if a[j] <= a[r]:\n",
    "                i += 1 \n",
    "                a[i], a[j] = a[j], a[i]\n",
    "        a[i+1], a[r] = a[r], a[i+1]\n",
    "        q = i+1\n",
    "        quick(a, p, q -1)              \n",
    "        quick(a, q + 1, r)"
   ]
  },
  {
   "cell_type": "code",
   "execution_count": 9,
   "metadata": {},
   "outputs": [
    {
     "name": "stdout",
     "output_type": "stream",
     "text": [
      "seed = 0 ==================================================\n",
      "WorkingTime[Medians]: 451.17879 ms\n",
      "WorkingTime[Random]: 136.27052 ms\n",
      "seed = 1 ==================================================\n",
      "WorkingTime[Medians]: 327.23093 ms\n",
      "WorkingTime[Random]: 72.36290 ms\n",
      "seed = 2 ==================================================\n",
      "WorkingTime[Medians]: 289.16669 ms\n",
      "WorkingTime[Random]: 76.33543 ms\n",
      "seed = 3 ==================================================\n",
      "WorkingTime[Medians]: 219.12909 ms\n",
      "WorkingTime[Random]: 96.14420 ms\n",
      "seed = 4 ==================================================\n",
      "WorkingTime[Medians]: 398.00739 ms\n",
      "WorkingTime[Random]: 206.22993 ms\n"
     ]
    }
   ],
   "source": [
    "from random import seed\n",
    "import numpy as np\n",
    "import copy\n",
    "\n",
    "for SEED in range(5):\n",
    "    print(\"seed = {} {}\".format(SEED, '='*50))\n",
    "    seed(SEED)\n",
    "    np.random.seed(SEED)\n",
    "    n = 10000\n",
    "    a = list(np.random.randint(-100000, 100000, size=n))\n",
    "    # a = random.sample(range(1, 1000000), n) # generate distinct values\n",
    "    test1 = copy.deepcopy(a)\n",
    "    Medians(test1, 0, n-1)\n",
    "    test2 = copy.deepcopy(a)\n",
    "    Random(test2, 0, n-1)\n",
    "    # print(test)\n",
    "    assert test1 == test2 == sorted(copy.deepcopy(a)), \"sanity check: failed.\"\n",
    "    # print(test)"
   ]
  },
  {
   "cell_type": "markdown",
   "metadata": {},
   "source": [
    "# Report\n",
    "\n",
    "Although quick sort with median of medians is faster mathmatically, <br>\n",
    "overhead makes the algorithm to be slow than randomized quicksort algorithm."
   ]
  }
 ],
 "metadata": {
  "kernelspec": {
   "display_name": "Python 3",
   "language": "python",
   "name": "python3"
  },
  "language_info": {
   "codemirror_mode": {
    "name": "ipython",
    "version": 3
   },
   "file_extension": ".py",
   "mimetype": "text/x-python",
   "name": "python",
   "nbconvert_exporter": "python",
   "pygments_lexer": "ipython3",
   "version": "3.7.4"
  }
 },
 "nbformat": 4,
 "nbformat_minor": 4
}
