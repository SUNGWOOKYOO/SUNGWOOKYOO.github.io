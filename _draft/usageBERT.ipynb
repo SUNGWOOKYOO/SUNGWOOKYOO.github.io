{
 "cells": [
  {
   "cell_type": "code",
   "execution_count": 1,
   "metadata": {},
   "outputs": [
    {
     "name": "stdout",
     "output_type": "stream",
     "text": [
      "python=3.7.6\n",
      "transformers==2.4.1\n",
      "torch==1.2.0\n",
      "tensorflow==2.0.0\n",
      "\n"
     ]
    }
   ],
   "source": [
    "import transformers, torch, tensorflow\n",
    "from platform import python_version\n",
    "print(\"python={}\".format(python_version()))\n",
    "print(\"transformers=={}\\ntorch=={}\\ntensorflow=={}\\n\".\n",
    "      format(transformers.__version__, torch.__version__, tensorflow.__version__ ))"
   ]
  },
  {
   "cell_type": "markdown",
   "metadata": {},
   "source": [
    "# How to use BERT? \n",
    "\n",
    "BERT [open soruce: pytorch](https://github.com/huggingface/transformers)\n",
    "> If you want to use `transformers` module, follow this install [guide](https://huggingface.co/transformers/installation.html?highlight=install).  \n",
    "\n",
    "BERT [document](https://huggingface.co/transformers/index.html#)\n",
    "> Description of how to use `transformers` module."
   ]
  },
  {
   "cell_type": "markdown",
   "metadata": {},
   "source": [
    "## Step1 - Setting\n",
    "`import` some libraries, and declare basic variables and fucntions in order to load and use **BERT**.\n"
   ]
  },
  {
   "cell_type": "code",
   "execution_count": 2,
   "metadata": {},
   "outputs": [
    {
     "name": "stderr",
     "output_type": "stream",
     "text": [
      "-f:9: YAMLLoadWarning: calling yaml.load() without Loader=... is deprecated, as the default Loader is unsafe. Please read https://msg.pyyaml.org/load for full details.\n",
      "03/06/2020 18:57:01 - Hellow World!\n"
     ]
    }
   ],
   "source": [
    "import sys, os, argparse, logging, yaml, pdb\n",
    "from transformers import BertConfig, BertPreTrainedModel, BertModel, BertTokenizer\n",
    "\n",
    "parser = argparse.ArgumentParser()\n",
    "parser.add_argument('--config', default='config.yml', help='read configuration file')\n",
    "sys.argv = ['-f']\n",
    "args = parser.parse_args()\n",
    "with open(args.config, 'r') as f:\n",
    "    opt = yaml.load(f)\n",
    "logger = logging.getLogger(__name__)\n",
    "# setup logging\n",
    "logging.basicConfig(\n",
    "    format=\"%(asctime)s - %(message)s\",\n",
    "    datefmt=\"%m/%d/%Y %H:%M:%S\",\n",
    "    level=logging.INFO if opt['verbose'] else logging.WARNING)\n",
    "logger.info(\"Hellow World!\")"
   ]
  },
  {
   "cell_type": "code",
   "execution_count": 3,
   "metadata": {},
   "outputs": [],
   "source": [
    "# opt.keys()"
   ]
  },
  {
   "cell_type": "code",
   "execution_count": 4,
   "metadata": {},
   "outputs": [
    {
     "data": {
      "text/plain": [
       "('bert-base-cased', './cache')"
      ]
     },
     "execution_count": 4,
     "metadata": {},
     "output_type": "execute_result"
    }
   ],
   "source": [
    "opt['config_name'], opt['cache_dir']"
   ]
  },
  {
   "cell_type": "markdown",
   "metadata": {},
   "source": [
    "### Load configuration object for BERT\n",
    "Prerequsite argument: \n",
    " * `pretrained_model_name_or_path`: the name of BERT model to use.\n",
    "\n",
    "Optional:\n",
    " * `cache_dir`: we can select cache directory to save. \n",
    "   `./cache/b945b69218e98 ... ` file will be saved.\n",
    "> REF: [pack, unpack](https://wikidocs.net/22801) in python."
   ]
  },
  {
   "cell_type": "code",
   "execution_count": 5,
   "metadata": {},
   "outputs": [
    {
     "name": "stderr",
     "output_type": "stream",
     "text": [
      "03/06/2020 18:57:02 - loading configuration file https://s3.amazonaws.com/models.huggingface.co/bert/bert-base-cased-config.json from cache at ./cache/b945b69218e98b3e2c95acf911789741307dec43c698d35fad11c1ae28bda352.3d5adf10d3445c36ce131f4c6416aa62e9b58e1af56b97664773f4858a46286e\n",
      "03/06/2020 18:57:02 - Model config BertConfig {\n",
      "  \"architectures\": [\n",
      "    \"BertForMaskedLM\"\n",
      "  ],\n",
      "  \"attention_probs_dropout_prob\": 0.1,\n",
      "  \"bos_token_id\": 0,\n",
      "  \"do_sample\": false,\n",
      "  \"eos_token_ids\": 0,\n",
      "  \"finetuning_task\": null,\n",
      "  \"hidden_act\": \"gelu\",\n",
      "  \"hidden_dropout_prob\": 0.1,\n",
      "  \"hidden_size\": 768,\n",
      "  \"id2label\": {\n",
      "    \"0\": \"LABEL_0\",\n",
      "    \"1\": \"LABEL_1\"\n",
      "  },\n",
      "  \"initializer_range\": 0.02,\n",
      "  \"intermediate_size\": 3072,\n",
      "  \"is_decoder\": false,\n",
      "  \"label2id\": {\n",
      "    \"LABEL_0\": 0,\n",
      "    \"LABEL_1\": 1\n",
      "  },\n",
      "  \"layer_norm_eps\": 1e-12,\n",
      "  \"length_penalty\": 1.0,\n",
      "  \"max_length\": 20,\n",
      "  \"max_position_embeddings\": 512,\n",
      "  \"model_type\": \"bert\",\n",
      "  \"num_attention_heads\": 12,\n",
      "  \"num_beams\": 1,\n",
      "  \"num_hidden_layers\": 12,\n",
      "  \"num_labels\": 2,\n",
      "  \"num_return_sequences\": 1,\n",
      "  \"output_attentions\": false,\n",
      "  \"output_hidden_states\": false,\n",
      "  \"output_past\": true,\n",
      "  \"pad_token_id\": 0,\n",
      "  \"pruned_heads\": {},\n",
      "  \"repetition_penalty\": 1.0,\n",
      "  \"temperature\": 1.0,\n",
      "  \"top_k\": 50,\n",
      "  \"top_p\": 1.0,\n",
      "  \"torchscript\": false,\n",
      "  \"type_vocab_size\": 2,\n",
      "  \"use_bfloat16\": false,\n",
      "  \"vocab_size\": 28996\n",
      "}\n",
      "\n",
      "03/06/2020 18:57:03 - loading file https://s3.amazonaws.com/models.huggingface.co/bert/bert-base-cased-vocab.txt from cache at /home/kddlab/.cache/torch/transformers/5e8a2b4893d13790ed4150ca1906be5f7a03d6c4ddf62296c383f6db42814db2.e13dbb970cb325137104fb2e5f36fe865f27746c6b526f6352861b1980eb80b1\n"
     ]
    }
   ],
   "source": [
    "config_bert = BertConfig.from_pretrained(pretrained_model_name_or_path=opt['config_name'], \n",
    "                                         cache_dir=opt['cache_dir'])\n",
    "tokenizer = BertTokenizer.from_pretrained(opt['config_name'], do_lower_case=True)"
   ]
  },
  {
   "cell_type": "code",
   "execution_count": 6,
   "metadata": {},
   "outputs": [
    {
     "name": "stderr",
     "output_type": "stream",
     "text": [
      "03/06/2020 18:57:03 - Optional: output all layers' states\n"
     ]
    }
   ],
   "source": [
    "config_bert.output_hidden_states = True\n",
    "logger.info(\"Optional: output all layers' states\".format(config_bert.output_hidden_states))"
   ]
  },
  {
   "cell_type": "markdown",
   "metadata": {},
   "source": [
    "#### Define a custom model to make use of BERT.\n",
    "\n",
    "If you wanted, you can make custom model to use BERT. <br>\n",
    "I want to use BERT embedding for my research, so I added a `linear` layer to train for specific task, later."
   ]
  },
  {
   "cell_type": "code",
   "execution_count": 7,
   "metadata": {},
   "outputs": [
    {
     "name": "stderr",
     "output_type": "stream",
     "text": [
      "03/06/2020 18:57:04 - loading weights file https://s3.amazonaws.com/models.huggingface.co/bert/bert-base-cased-pytorch_model.bin from cache at ./cache/35d8b9d36faaf46728a0192d82bf7d00137490cd6074e8500778afed552a67e5.3fadbea36527ae472139fe84cddaa65454d7429f12d543d80bfc3ad70de55ac2\n",
      "03/06/2020 18:57:06 - Weights of MyModel not initialized from pretrained model: ['linear.weight', 'linear.bias']\n",
      "03/06/2020 18:57:06 - Weights from pretrained model not used in MyModel: ['cls.predictions.bias', 'cls.predictions.transform.dense.weight', 'cls.predictions.transform.dense.bias', 'cls.predictions.decoder.weight', 'cls.seq_relationship.weight', 'cls.seq_relationship.bias', 'cls.predictions.transform.LayerNorm.weight', 'cls.predictions.transform.LayerNorm.bias']\n"
     ]
    }
   ],
   "source": [
    "import torch.nn as nn\n",
    "HIDDEN_SIZE_BERT = 768\n",
    "EMBED_SIZE_WORD = 300\n",
    "\n",
    "class MyModel(BertPreTrainedModel):\n",
    "    def __init__(self, config, **kwargs):\n",
    "        \"\"\" Using Bert, define custom Model. \n",
    "        [*]: check important parts. \"\"\"\n",
    "        super(MyModel, self).__init__(config)\n",
    "        self.bert = BertModel(config)\n",
    "        \n",
    "        # recursively load into the BERT submodule the first time you call pre-trained weights. [*]\n",
    "        self.init_weights()\n",
    "        \n",
    "        # customized layer - these layers' wieghts are not initialized.\n",
    "        self.linear = nn.Linear(kwargs['hidden_size_bert'], kwargs['embed_size_word'])\n",
    "\n",
    "    def forward(self, input_ids, attention_mask=None, token_type_ids=None):\n",
    "        \"\"\" forward step of BERT and pass customed layers.\n",
    "        input_ids: prerequesite: \"\"\"\n",
    "        # pdb.set_trace() # debugging\n",
    "        hiddens, pooled, hiddens_all = self.bert(input_ids, \n",
    "                                                 attention_mask=attention_mask,\n",
    "                                                 token_type_ids=token_type_ids)\n",
    "        out = self.linear(hiddens)\n",
    "        return out, hiddens, hiddens_all # [B, T, D]\n",
    "\n",
    "model = MyModel.from_pretrained(\n",
    "    pretrained_model_name_or_path=opt['config_name'], \n",
    "    config=config_bert, \n",
    "    cache_dir=opt['cache_dir'], \n",
    "    hidden_size_bert=HIDDEN_SIZE_BERT,\n",
    "    embed_size_word=EMBED_SIZE_WORD)"
   ]
  },
  {
   "cell_type": "markdown",
   "metadata": {},
   "source": [
    "### Prepare for Dataset to use\n",
    "\n",
    "[REF1 - BERT Word Embeddings Tutorials](https://mccormickml.com/2019/05/14/BERT-word-embeddings-tutorial/) <br>\n",
    "[REF2 - Visualization of BERT Embeddings with t-SNE](https://www.kaggle.com/mateiionita/visualizing-bert-embeddings-with-t-sne)"
   ]
  },
  {
   "cell_type": "code",
   "execution_count": 8,
   "metadata": {},
   "outputs": [],
   "source": [
    "import torch\n",
    "import matplotlib.pyplot as plt\n",
    "%matplotlib inline"
   ]
  },
  {
   "cell_type": "markdown",
   "metadata": {},
   "source": [
    "#### Create a single sentence for being an input of BERT"
   ]
  },
  {
   "cell_type": "code",
   "execution_count": 9,
   "metadata": {},
   "outputs": [],
   "source": [
    "# Define a new example sentence with multiple meanings of the word \"bank\"\n",
    "text = \"After stealing money from the bank vault, the bank robber was seen \" \\\n",
    "       \"fishing on the Mississippi river bank.\"\n",
    "\n",
    "# Map the token strings to their vocabulary indeces.\n",
    "tokens = tokenizer.convert_tokens_to_ids(tokenizer.tokenize(text))\n",
    "input_ids = tokenizer.build_inputs_with_special_tokens(tokens)\n",
    "\n",
    "# optional - discriminate sentence A or B.\n",
    "token_type_ids = tokenizer.create_token_type_ids_from_sequences(tokens)\n",
    "assert len(token_type_ids) == len(input_ids), \"single sentence token tpye ids does not matched.\"\n",
    "\n",
    "# Convert inputs to PyTorch tensors\n",
    "input_ids = torch.tensor([input_ids])\n",
    "token_type_ids = torch.tensor([token_type_ids]) + 1 # becomes all 1\n",
    "# input_ids, token_type_ids"
   ]
  },
  {
   "cell_type": "markdown",
   "metadata": {},
   "source": [
    "## Step2 - Get BERT Embedding by forward step"
   ]
  },
  {
   "cell_type": "code",
   "execution_count": 10,
   "metadata": {},
   "outputs": [
    {
     "name": "stderr",
     "output_type": "stream",
     "text": [
      "03/06/2020 18:57:06 - eval mode\n",
      "03/06/2020 18:57:06 - torch.Size([1, 27, 300]), torch.Size([1, 27, 768]), 13\n"
     ]
    }
   ],
   "source": [
    "# Put the model in \"evaluation\" mode, meaning feed-forward operation.\n",
    "model.eval()\n",
    "logger.info(\"eval mode\")\n",
    "\n",
    "# Predict hidden states features for each layer - speed up inference time.\n",
    "with torch.no_grad():\n",
    "    # forward step of a cumstomized model - only output hiddens, not pooled output.\n",
    "    embed, hiddens, hiddens_all = model(input_ids, token_type_ids=token_type_ids)\n",
    "logger.info(\"{}, {}, {}\".format(embed.shape, hiddens.shape, len(hiddens_all)))"
   ]
  },
  {
   "cell_type": "code",
   "execution_count": 11,
   "metadata": {},
   "outputs": [
    {
     "data": {
      "text/plain": [
       "(13, torch.Size([1, 27, 768]))"
      ]
     },
     "execution_count": 11,
     "metadata": {},
     "output_type": "execute_result"
    }
   ],
   "source": [
    "len(hiddens_all), hiddens_all[0].shape # dim=[#layers, #batches, #tokens, #features]"
   ]
  },
  {
   "cell_type": "code",
   "execution_count": 12,
   "metadata": {},
   "outputs": [
    {
     "name": "stderr",
     "output_type": "stream",
     "text": [
      "03/06/2020 18:57:06 - torch.Size([768])\n"
     ]
    }
   ],
   "source": [
    "# set index for getting wanted information\n",
    "batch_i, token_i, layer_i = 0, 5, 5\n",
    "embed_token = hiddens_all[1 + layer_i][batch_i][token_i]\n",
    "logger.info(embed_token.shape)"
   ]
  },
  {
   "cell_type": "code",
   "execution_count": 13,
   "metadata": {},
   "outputs": [
    {
     "data": {
      "image/png": "[encoded data removed]",
      "text/plain": [
       "<Figure size 360x360 with 1 Axes>"
      ]
     },
     "metadata": {
      "needs_background": "light"
     },
     "output_type": "display_data"
    }
   ],
   "source": [
    "# Plot the values as a histogram to show their distribution.\n",
    "plt.figure(figsize=(5,5))\n",
    "plt.hist(embed_token, bins=200)\n",
    "plt.show()"
   ]
  },
  {
   "cell_type": "markdown",
   "metadata": {},
   "source": [
    "### Reshape hidden states of BERT-output for analysis.\n",
    "\n",
    "I will **reshape** BERT-output into `[#tokens, #layers, #features]`"
   ]
  },
  {
   "cell_type": "code",
   "execution_count": 14,
   "metadata": {},
   "outputs": [
    {
     "name": "stderr",
     "output_type": "stream",
     "text": [
      "03/06/2020 18:57:07 - torch.Size([12, 1, 27, 768])\n",
      "03/06/2020 18:57:07 - torch.Size([12, 27, 768])\n",
      "03/06/2020 18:57:07 - torch.Size([27, 12, 768])\n"
     ]
    }
   ],
   "source": [
    "logger.info(torch.stack(hiddens_all[1:], dim=0).shape)\n",
    "new_embed = torch.squeeze(torch.stack(hiddens_all[1:], dim=0), dim=1)\n",
    "logger.info(new_embed.shape)\n",
    "new_embed = new_embed.permute(1,0,2)\n",
    "logger.info(new_embed.shape) # complete"
   ]
  },
  {
   "cell_type": "markdown",
   "metadata": {},
   "source": [
    "## Step3 - Create word and sentence vertors \n",
    "\n",
    "<div style=\"background-color:gray\"> <summary> <h4>issue</h4> </summary> \n",
    "    <p> which layer or combination of layers provides the best representation? In BERT paper, they compared it by F1-scores. </p>\n",
    "</div>\n",
    "\n",
    "결론: task 마다 다르다. It depends on the situation... what is your applicaiton?\n",
    "> the correct pooling strategy and layers used (last four, all, last layer, etc.) is dependent on the application."
   ]
  },
  {
   "cell_type": "markdown",
   "metadata": {},
   "source": [
    "### Word Vectors\n",
    "\n",
    "There are many ways to create word vectors.\n",
    "1. Concatenate the last 4 layers. Each vector will has length $4 \\times 768 = 3072$\n",
    "2. Summation of the last 4 layers. Each vector will has length $768$\n",
    "3. Etc."
   ]
  },
  {
   "cell_type": "code",
   "execution_count": 15,
   "metadata": {},
   "outputs": [],
   "source": [
    "# Stores the token vectors, with shape [22 x 3,072]\n",
    "embed_words = []\n",
    "for embed in new_embed:\n",
    "    # option 1\n",
    "#     vec = torch.cat([x for x in embed[-4:]], dim=0)\n",
    "#     embed_words.append(vec)\n",
    "    # option 2\n",
    "    vec = torch.sum(embed[-4:], dim=0)\n",
    "    embed_words.append(vec)"
   ]
  },
  {
   "cell_type": "code",
   "execution_count": 16,
   "metadata": {},
   "outputs": [
    {
     "name": "stderr",
     "output_type": "stream",
     "text": [
      "03/06/2020 18:57:07 - # of tokens: 27, # of dim for each words: torch.Size([768])\n"
     ]
    }
   ],
   "source": [
    "logger.info(\"# of tokens: {}, # of dim for each words: {}\".format(len(embed_words), embed_words[0].shape))"
   ]
  },
  {
   "cell_type": "markdown",
   "metadata": {},
   "source": [
    "### Sentence Vectors\n",
    "\n",
    "There are also many ways to create word vectors.  \n",
    "Take one option.\n",
    "In this blog, I take the average of all tokens' embeddings in the last layer."
   ]
  },
  {
   "cell_type": "code",
   "execution_count": 17,
   "metadata": {},
   "outputs": [
    {
     "name": "stderr",
     "output_type": "stream",
     "text": [
      "03/06/2020 18:57:07 - torch.Size([25, 768])\n",
      "03/06/2020 18:57:07 - torch.Size([768])\n"
     ]
    }
   ],
   "source": [
    "embed_sentence = new_embed[1:-1, -1, :] # except first and last token embedding\n",
    "logger.info(embed_sentence.shape)\n",
    "embed_sentence = torch.mean(embed_sentence, dim=0)\n",
    "logger.info(embed_sentence.shape)"
   ]
  },
  {
   "cell_type": "markdown",
   "metadata": {},
   "source": [
    "## Step 4 - Analysis of a Case Study\n",
    "\n",
    "According to this [article](https://mccormickml.com/2019/05/14/BERT-word-embeddings-tutorial/#32-understanding-the-output) at section 3.4, the arthor said that \"value of these vectors[sentence and words vectors] are in fact contextually dependent.\" <br>\n",
    "Let's look at the different instances of the word “bank” in our example sentence:\n",
    ">  ''After stealing money from the **bank vault**, the **bank robber** was seen fishing on the Mississippi **river bank**.''\n",
    "\n",
    "Note that each of the three **bank** has different meaning contextually."
   ]
  },
  {
   "cell_type": "code",
   "execution_count": 18,
   "metadata": {},
   "outputs": [
    {
     "name": "stderr",
     "output_type": "stream",
     "text": [
      "03/06/2020 18:57:07 - After stealing money from the bank vault, the bank robber was seen fishing on the Mississippi river bank.\n",
      "03/06/2020 18:57:07 - tensor([[  101,  1170, 11569,  1948,  1121,  1103,  3085, 13454,   117,  1103,\n",
      "          3085,   187, 12809,  3169,  1108,  1562,  5339,  1113,  1103,  5529,\n",
      "         14788,  9717,  8508,  2186,  3085,   119,   102]])\n"
     ]
    }
   ],
   "source": [
    "logger.info(text) # recall that text is like this. \n",
    "logger.info(input_ids) # tokenized words' ids."
   ]
  },
  {
   "cell_type": "code",
   "execution_count": 19,
   "metadata": {},
   "outputs": [
    {
     "name": "stderr",
     "output_type": "stream",
     "text": [
      "03/06/2020 18:57:07 - [6, 10, 24]\n"
     ]
    }
   ],
   "source": [
    "# extract indices of bank from a given sentence.\n",
    "indices = [idx for idx, token in enumerate(tokenizer.convert_ids_to_tokens(input_ids.view(-1))) if token=='bank']\n",
    "logger.info(indices)"
   ]
  },
  {
   "cell_type": "markdown",
   "metadata": {},
   "source": [
    "### Calculate cosine similarity between the vectors `embed_words` from step 3 \n",
    "\n",
    "As a human, we can easily notice that \n",
    " * `'bank'` is similar meaning where the `'bank' vault` and the `'bank' robber`.\n",
    " * `'bank'` is different meaning where `river 'bank'` and the `'bank' vault` or the `'bank' robber`."
   ]
  },
  {
   "cell_type": "code",
   "execution_count": 23,
   "metadata": {},
   "outputs": [
    {
     "name": "stderr",
     "output_type": "stream",
     "text": [
      "03/06/2020 19:12:10 - 27, torch.Size([768])\n",
      "03/06/2020 19:12:10 - ['bank', 'bank', 'bank']\n",
      "03/06/2020 19:12:10 - score1=[[0.8953148]]| score2=[[0.7670008]]| score3=[[0.73296183]]\n"
     ]
    }
   ],
   "source": [
    "from sklearn.metrics.pairwise import cosine_similarity\n",
    "\n",
    "logger.info(\"{}, {}\".format(len(embed_words), embed_words[0].shape))\n",
    "\n",
    "logger.info(tokenizer.convert_ids_to_tokens([input_ids.view(-1)[6].item(), \n",
    "                                             input_ids.view(-1)[10].item(), \n",
    "                                             input_ids.view(-1)[24].item()]))\n",
    "\n",
    "score1 = cosine_similarity(embed_words[6].view(1, -1), embed_words[10].view(1, -1)) # similar\n",
    "score2 = cosine_similarity(embed_words[6].view(1, -1), embed_words[24].view(1, -1)) # different\n",
    "score3 = cosine_similarity(embed_words[10].view(1, -1), embed_words[24].view(1, -1)) # different\n",
    "logger.info(\"score1={}| score2={}| score3={}\".format(score1, score2, score3))"
   ]
  },
  {
   "cell_type": "markdown",
   "metadata": {},
   "source": [
    "### Report\n",
    " According to the author of this article \n",
    "> it is worth noting that **word-level similarity comparisons are not appropriate** with BERT embeddings because these embeddings are contextually dependent. This makes direct word-to-word similarity comparisons less valuable.\n",
    "\n",
    "결론: 문맥에 따라 벡터 표현이 다르므로 **word 간의 similarity 비교**는 큰 의미가 **없다**.\n",
    "\n",
    "하지만, BERT는 sentence가 같으면 벡터가 같도록 디자인 하였기 때문에 **sentence 사이의 similarity**는 의미가 있을 수 **있다**."
   ]
  }
 ],
 "metadata": {
  "kernelspec": {
   "display_name": "swyoo",
   "language": "python",
   "name": "swyoo"
  },
  "language_info": {
   "codemirror_mode": {
    "name": "ipython",
    "version": 3
   },
   "file_extension": ".py",
   "mimetype": "text/x-python",
   "name": "python",
   "nbconvert_exporter": "python",
   "pygments_lexer": "ipython3",
   "version": "3.7.6"
  }
 },
 "nbformat": 4,
 "nbformat_minor": 4
}
