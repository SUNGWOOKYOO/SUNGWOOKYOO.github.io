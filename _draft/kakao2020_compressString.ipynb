{
 "cells": [
  {
   "cell_type": "markdown",
   "metadata": {},
   "source": [
    "# 문자열 압축"
   ]
  },
  {
   "cell_type": "code",
   "execution_count": 1,
   "metadata": {},
   "outputs": [],
   "source": [
    "def solution(s, verbose=False):\n",
    "    \n",
    "    N = len(s)\n",
    "    ans = 1e8\n",
    "    for slen in range(1, N//2 + 1):    \n",
    "        seen = False\n",
    "        cnt = slen\n",
    "        for i in range(0, N-slen, slen):\n",
    "            sub = s[i: i+slen]\n",
    "            tmp = s[i+slen: i+2*slen]\n",
    "            if verbose: print(\"sub:{:<4}| tmp:{:>4}\".format(sub, tmp), end=\"\")\n",
    "            if sub == tmp:\n",
    "                if not seen: \n",
    "                    seen = True\n",
    "                    cnt += 1\n",
    "                    if verbose: print(\"\\t> +1, {}\".format(cnt))\n",
    "                elif verbose: print(\"seen '{}' before\".format(tmp))\n",
    "            else:\n",
    "                cnt += len(tmp) # note that the length of tmp is not always slen\n",
    "                seen = False # reset seen flag\n",
    "                if verbose: print(\"\\t> +{}, {}\".format(slen, cnt))\n",
    "        ans = min(ans, cnt)\n",
    "    \n",
    "    return ans"
   ]
  },
  {
   "cell_type": "code",
   "execution_count": 2,
   "metadata": {},
   "outputs": [],
   "source": [
    "string = \"abcabcdede\""
   ]
  },
  {
   "cell_type": "code",
   "execution_count": 3,
   "metadata": {},
   "outputs": [
    {
     "name": "stdout",
     "output_type": "stream",
     "text": [
      "sub:a   | tmp:   b\t> +1, 2\n",
      "sub:b   | tmp:   c\t> +1, 3\n",
      "sub:c   | tmp:   a\t> +1, 4\n",
      "sub:a   | tmp:   b\t> +1, 5\n",
      "sub:b   | tmp:   c\t> +1, 6\n",
      "sub:c   | tmp:   d\t> +1, 7\n",
      "sub:d   | tmp:   e\t> +1, 8\n",
      "sub:e   | tmp:   d\t> +1, 9\n",
      "sub:d   | tmp:   e\t> +1, 10\n",
      "sub:ab  | tmp:  ca\t> +2, 4\n",
      "sub:ca  | tmp:  bc\t> +2, 6\n",
      "sub:bc  | tmp:  de\t> +2, 8\n",
      "sub:de  | tmp:  de\t> +1, 9\n",
      "sub:abc | tmp: abc\t> +1, 4\n",
      "sub:abc | tmp: ded\t> +3, 7\n",
      "sub:ded | tmp:   e\t> +3, 8\n",
      "sub:abca| tmp:bcde\t> +4, 8\n",
      "sub:bcde| tmp:  de\t> +4, 10\n",
      "sub:abcab| tmp:cdede\t> +5, 10\n"
     ]
    },
    {
     "data": {
      "text/plain": [
       "8"
      ]
     },
     "execution_count": 3,
     "metadata": {},
     "output_type": "execute_result"
    }
   ],
   "source": [
    "solution(string, verbose=True)"
   ]
  }
 ],
 "metadata": {
  "kernelspec": {
   "display_name": "Python 3",
   "language": "python",
   "name": "python3"
  },
  "language_info": {
   "codemirror_mode": {
    "name": "ipython",
    "version": 3
   },
   "file_extension": ".py",
   "mimetype": "text/x-python",
   "name": "python",
   "nbconvert_exporter": "python",
   "pygments_lexer": "ipython3",
   "version": "3.7.4"
  }
 },
 "nbformat": 4,
 "nbformat_minor": 4
}
