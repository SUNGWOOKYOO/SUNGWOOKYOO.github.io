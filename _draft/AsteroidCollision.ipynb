{
 "cells": [
  {
   "cell_type": "markdown",
   "metadata": {},
   "source": [
    "# 735. Asteroid Collision\n",
    "\n",
    "## Objective \n",
    "All elements of `ans` will be residual asteroids after all collision occur. <br>\n",
    "\n",
    "## Intuition - Incremental Approach\n",
    "> **Flow of Incremental Approach** <br>\n",
    "  Assume that we have the result of given `~ (i-1)-th inputs`. <br>\n",
    "  When `i-th iteration`, we have get the result `~ i-th inputs` satisfying the objective of a problem. <br>\n",
    "  In this way, we can get the final result by scanning `all inputs`.   \n",
    "\n",
    "\n",
    "You can solve this problem by gradually scanning each asteroid and adding the result to `ans`, taking into account the crash cases. <br>\n",
    "Assume that we already have `ans` when `i-th` iteration. <br>\n",
    "When we meet `new `, which is a `i-th` asteroid, we can notice the fact as follows.\n",
    "<div style=\"background-color: gray\"> \n",
    "    <p>\n",
    "        <span style=\"color:blue\">Note that</span> asteroids of ans <b><span style=\"color:blue\"> from the top to bottom </span></b> are affected until being stable when dealing with <span style=\"color: blue\">i-th iteration</span> if collisions occurs. \n",
    "    </p>\n",
    "</div>\n",
    "\n",
    "**Therefore**, we can use **`stack` data structure** to `ans`. <br>\n",
    "We can use `stack` as `ans` by updating `ans` from top to bottom when dealing with `i-th iteration`, \n",
    "\n",
    "## How to solve using a stack in detail?\n",
    "Append new asteroid for each iteration by considering as follows. <br>\n",
    "If collision cases(`new < 0 < top`) occur, there are two cases.  \n",
    "1. `abs(top) < abs(new)` - `ans` blows up. However, `new` is still alive. so, see `next top` of ans.  \n",
    "2. `abs(top) == abs(new)` - both `ans` and `new` blow up. so, it becomes stable. (get out while loop) "
   ]
  },
  {
   "cell_type": "code",
   "execution_count": 1,
   "metadata": {},
   "outputs": [],
   "source": [
    "class Solution(object):\n",
    "    def asteroidCollision(self, asteroids):\n",
    "        \"\"\"\n",
    "        :type asteroids: List[int]\n",
    "        :rtype: List[int]\n",
    "        \"\"\"\n",
    "        ans = [] # ans is a stack: elements of ans will be residual asteroids after all collision occur.\n",
    "        for new in asteroids:\n",
    "            # all collision cases\n",
    "            # - At first, ans is not empty. (first requirement condition) \n",
    "            #   - Also, top of ans is postivie and new is negative.\n",
    "            while ans and new < 0 < ans[-1]:\n",
    "                # case 1 - top blows up, but new is still alive.\n",
    "                if abs(ans[-1]) < abs(new):\n",
    "                    ans.pop()\n",
    "                    continue # see the next top of ans\n",
    "                # case 2 - both top ans new blow up, it becomes stable.\n",
    "                elif abs(ans[-1]) == abs(new):\n",
    "                    ans.pop()\n",
    "                # etc - ans does not change.\n",
    "                break # get out the while loop.\n",
    "            else: # [important]: to avoid the case that `new` blows up, but append the new to ans. \n",
    "                # if it goes through the while loop, where is above, avoid this line. \n",
    "                ans.append(new)\n",
    "        return ans\n",
    "sol = Solution()"
   ]
  },
  {
   "cell_type": "code",
   "execution_count": 2,
   "metadata": {},
   "outputs": [
    {
     "data": {
      "text/plain": [
       "[5, 10]"
      ]
     },
     "execution_count": 2,
     "metadata": {},
     "output_type": "execute_result"
    }
   ],
   "source": [
    "A = [5, 10, -5]\n",
    "sol.asteroidCollision(A)"
   ]
  },
  {
   "cell_type": "markdown",
   "metadata": {},
   "source": [
    "# Report \n",
    "When I solve this problem, there are two things to think.\n",
    "1. It is hard to think that `ans` is used as `stack` datastruture. <br>\n",
    "    I cannot notice this fact when I solve this problem firstly. <br>\n",
    "    However, I can figure out the use of stack makes the problem be solved incrementally.\n",
    "2. Hard to implement the exception cases.\n",
    "    * I cannot know how to deal with collision cases.\n",
    "        ```python\n",
    "        while ans and new < 0 < ans[-1]:\n",
    "        ```\n",
    "        In python, at the while condition, \n",
    "        `ans` should be non-empty, and `new < 0 < ans[-1]`\n",
    "        I thought that ans[-1] is impossible because when `ans` is empty at first step, the `-1` is out of index. \n",
    "        However, fortunately, In python, if first condition is false, the python does not see the second condition!.\n",
    "        so, out of index error does not occur.\n",
    "    * when `abs(ans[-1]) == abs(new):` occurs, both `ans` ans `new` blow up.\n",
    "       Therefore, we should not append new because it disappears by collision. \n",
    "       I was confused at how to implement this.\n",
    "       Luckly, In python, `while` or `else` is possible. \n",
    "       ```python\n",
    "        while condition:\n",
    "            # ...\n",
    "        else: # [important]: to avoid the case that `new` blows up, but append the new to ans.  \n",
    "            ans.append(new)\n",
    "       ```\n",
    "    "
   ]
  },
  {
   "cell_type": "code",
   "execution_count": 3,
   "metadata": {},
   "outputs": [
    {
     "name": "stdout",
     "output_type": "stream",
     "text": [
      "hi\n"
     ]
    }
   ],
   "source": [
    "# test\n",
    "while 1:\n",
    "    print(\"hi\")\n",
    "    break\n",
    "else:\n",
    "    print(\"hello\")"
   ]
  },
  {
   "cell_type": "code",
   "execution_count": 4,
   "metadata": {},
   "outputs": [
    {
     "name": "stdout",
     "output_type": "stream",
     "text": [
      "hello\n"
     ]
    }
   ],
   "source": [
    "# test\n",
    "while 0:\n",
    "    print(\"hi\")\n",
    "    break\n",
    "else:\n",
    "    print(\"hello\")\n"
   ]
  }
 ],
 "metadata": {
  "kernelspec": {
   "display_name": "Python 3",
   "language": "python",
   "name": "python3"
  },
  "language_info": {
   "codemirror_mode": {
    "name": "ipython",
    "version": 3
   },
   "file_extension": ".py",
   "mimetype": "text/x-python",
   "name": "python",
   "nbconvert_exporter": "python",
   "pygments_lexer": "ipython3",
   "version": "3.7.4"
  }
 },
 "nbformat": 4,
 "nbformat_minor": 4
}
