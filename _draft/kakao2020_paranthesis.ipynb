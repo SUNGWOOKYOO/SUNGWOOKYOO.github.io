{
 "cells": [
  {
   "cell_type": "markdown",
   "metadata": {},
   "source": [
    "# [2020카카오공채] 괄호 변환\n",
    "\n",
    "[programmers](https://programmers.co.kr/learn/courses/30/lessons/60058)\n",
    "\n",
    "1. 입력이 빈 문자열인 경우, 빈 문자열을 반환합니다.\n",
    "2. 문자열 w를 두 \"균형잡힌 괄호 문자열\" u, v로 분리합니다. 단, u는 \"균형잡힌 괄호 문자열\"로 더 이상 분리할 수 없어야 하며, v는 빈 문자열이 될 수 있습니다.\n",
    "3. 문자열 u가 \"올바른 괄호 문자열\" 이라면 문자열 v에 대해 1단계부터 다시 수행합니다.\n",
    "  3-1. 수행한 결과 문자열을 u에 이어 붙인 후 반환합니다.\n",
    "4. 문자열 u가 \"올바른 괄호 문자열\"이 아니라면 아래 과정을 수행합니다.\n",
    "  4-1. 빈 문자열에 첫 번째 문자로 '('를 붙입니다.\n",
    "  4-2. 문자열 v에 대해 1단계부터 재귀적으로 수행한 결과 문자열을 이어 붙입니다.\n",
    "  4-3. ')'를 다시 붙입니다.\n",
    "  4-4. u의 첫 번째와 마지막 문자를 제거하고, 나머지 문자열의 괄호 방향을 뒤집어서 뒤에 붙입니다.\n",
    "  4-5. 생성된 문자열을 반환합니다."
   ]
  },
  {
   "cell_type": "markdown",
   "metadata": {},
   "source": [
    "중요한 가정: 항상 `p`의 '(' 와 ')' 수는 동일하다.\n",
    "[REF](https://m.post.naver.com/viewer/postView.nhn?volumeNo=26897018&memberNo=33264526)"
   ]
  },
  {
   "cell_type": "code",
   "execution_count": 1,
   "metadata": {},
   "outputs": [],
   "source": [
    "def solution(p, verbose=False):\n",
    "    \"\"\" fix parenthesis \"\"\"\n",
    "    def is_balance(x):\n",
    "        \"\"\" return an index of balanced point.\"\"\"\n",
    "        bal = 0\n",
    "        for k, e in enumerate(x):\n",
    "            if e == '(':\n",
    "                bal += 1\n",
    "            else:\n",
    "                bal -= 1\n",
    "            if bal == 0:\n",
    "                break\n",
    "        return k\n",
    "    \n",
    "    def is_right(x):\n",
    "        \"\"\" check if x is right\n",
    "        1. if e == '(', push to stack.\n",
    "        2. elif e == ')'\n",
    "             * if '(' in stack, that is non-empty, pop the top element.\n",
    "             * elif stack is empty, return False because it is not correct.\n",
    "        \"\"\"\n",
    "        ck = []\n",
    "        for e in x:\n",
    "            if e == '(':\n",
    "                ck.append(e)\n",
    "            else:\n",
    "                if ck != []: ck.pop()\n",
    "                else: return False\n",
    "        return True if ck == [] else False\n",
    "    \n",
    "    def reverse(x):\n",
    "        rev = ''\n",
    "        for e in x:\n",
    "            if e == '(':\n",
    "                rev += ')'\n",
    "            else:\n",
    "                rev += '('\n",
    "        return rev\n",
    "    \n",
    "    if p == '': return p\n",
    "    k = is_balance(p)\n",
    "    u, v = p[:k+1], p[k+1:]\n",
    "    if verbose: print(\"u= {}, v= {}\".format(u, v))\n",
    "    \n",
    "    if is_right(u):\n",
    "        if verbose: print('right')\n",
    "        return u + solution(v)\n",
    "    left = '(' + solution(v) + ')'\n",
    "    right = reverse(u[1:-1])\n",
    "    return left + right                "
   ]
  },
  {
   "cell_type": "code",
   "execution_count": 2,
   "metadata": {},
   "outputs": [
    {
     "data": {
      "text/plain": [
       "'()(())()'"
      ]
     },
     "execution_count": 2,
     "metadata": {},
     "output_type": "execute_result"
    }
   ],
   "source": [
    "p = \"()))((()\"\n",
    "solution(p, verbose=False)"
   ]
  },
  {
   "cell_type": "markdown",
   "metadata": {},
   "source": [
    "## Report\n",
    "문제에서 주어진대로 정확히 구현하면 통과 가능."
   ]
  }
 ],
 "metadata": {
  "kernelspec": {
   "display_name": "Python 3",
   "language": "python",
   "name": "python3"
  },
  "language_info": {
   "codemirror_mode": {
    "name": "ipython",
    "version": 3
   },
   "file_extension": ".py",
   "mimetype": "text/x-python",
   "name": "python",
   "nbconvert_exporter": "python",
   "pygments_lexer": "ipython3",
   "version": "3.7.4"
  }
 },
 "nbformat": 4,
 "nbformat_minor": 4
}
